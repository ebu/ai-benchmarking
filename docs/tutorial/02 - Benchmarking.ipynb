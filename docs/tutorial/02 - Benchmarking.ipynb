{
 "cells": [
  {
   "cell_type": "markdown",
   "metadata": {},
   "source": [
    "# Benchmarking\n",
    "\n",
    "Note: for a command line tool tutorial, see <https://benchmarkstt.readthedocs.io/en/latest/tutorial.html>\n",
    "\n",
    "Note: It is assumed that you have gone through the example in the Normalization tutorial first."
   ]
  },
  {
   "cell_type": "markdown",
   "metadata": {},
   "source": [
    "### Recap"
   ]
  },
  {
   "cell_type": "markdown",
   "metadata": {},
   "source": [
    "We created 3 normalizers, one for each file we intend to benchmark. The resulting code was:"
   ]
  },
  {
   "cell_type": "code",
   "execution_count": 1,
   "metadata": {},
   "outputs": [],
   "source": [
    "from benchmarkstt.normalization import NormalizationComposite\n",
    "from benchmarkstt.normalization.core import Regex, Replace, Lowercase\n",
    "\n",
    "####### CONSTRUCT NORMALIZERS #######\n",
    "\n",
    "# aws\n",
    "normalizer_aws = NormalizationComposite()\n",
    "normalizer_aws.add(Regex('^.*\"transcript\":\"([^\"]+)\".*', '\\\\1'))\n",
    "normalizer_aws.add(Lowercase())\n",
    "                                  \n",
    "# kaldi\n",
    "normalizer_kaldi = NormalizationComposite()\n",
    "normalizer_kaldi.add(Regex('^.*\"text\":\"([^\"]+)\".*', '\\\\1'))\n",
    "normalizer_kaldi.add(Lowercase())\n",
    "\n",
    "# subtitles (reference)\n",
    "normalizer_ref = NormalizationComposite()\n",
    "\n",
    "# Remove XML-tags\n",
    "normalizer_ref.add(Regex(\"</?[?!\\[\\]a-zA-Z][^>]*>\", \" \")) \n",
    "# Remove extra newline and spaces\n",
    "normalizer_ref.add(Regex(\"[\\n\\s]+\", \" \"))\n",
    "\n",
    "# Remove non-dialogue text\n",
    "normalizer_ref.add(Replace('APPLAUSE', ''))\n",
    "normalizer_ref.add(Replace('SPEAKS OFF MIC', ''))\n",
    "normalizer_ref.add(Replace('INDISTINCT', ''))\n",
    "normalizer_ref.add(Replace('CHATTER FROM AUDIENCE', ''))\n",
    "normalizer_ref.add(Replace('LAUGHTER', ''))\n",
    "normalizer_ref.add(Replace('DROWNS OUT SPEECH', ''))\n",
    "normalizer_ref.add(Replace('GROANING', ''))\n",
    "normalizer_ref.add(Replace('CHEERING', ''))\n",
    "normalizer_ref.add(Lowercase())"
   ]
  }
 ],
 "metadata": {
  "kernelspec": {
   "display_name": "Python 3",
   "language": "python",
   "name": "python3"
  },
  "language_info": {
   "codemirror_mode": {
    "name": "ipython",
    "version": 3
   },
   "file_extension": ".py",
   "mimetype": "text/x-python",
   "name": "python",
   "nbconvert_exporter": "python",
   "pygments_lexer": "ipython3",
   "version": "3.8.5"
  }
 },
 "nbformat": 4,
 "nbformat_minor": 4
}

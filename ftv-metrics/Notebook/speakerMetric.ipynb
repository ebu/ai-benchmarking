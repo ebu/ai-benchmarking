{
 "cells": [
  {
   "cell_type": "markdown",
   "metadata": {},
   "source": [
    "# Speaker metric studies : \n"
   ]
  },
  {
   "cell_type": "code",
   "execution_count": 36,
   "metadata": {},
   "outputs": [],
   "source": [
    "import json\n",
    "from operator import itemgetter"
   ]
  },
  {
   "cell_type": "code",
   "execution_count": 37,
   "metadata": {},
   "outputs": [],
   "source": [
    "refPath = \"/Users/amira/Desktop/corpus_stt/medias_corrected/fr-FR_news_0120be6c-7b6d-447a-bae2-d79a9149ddd6_Journal-Polynesie/reference_transcript_to_evaluate.json\"\n",
    "hypPath = \"/Users/amira/Desktop/corpus_stt/medias_corrected/fr-FR_news_0120be6c-7b6d-447a-bae2-d79a9149ddd6_Journal-Polynesie/vocapia/nlp_transcript_norm.json\""
   ]
  },
  {
   "cell_type": "code",
   "execution_count": 38,
   "metadata": {},
   "outputs": [],
   "source": [
    "#method to read a transcript json file\n",
    "def read_transcript(transcriptPath):\n",
    "    try:\n",
    "        return json.load(open(transcriptPath,'rt',encoding='utf-8'))\n",
    "    except FileNotFoundError:\n",
    "        return None"
   ]
  },
  {
   "cell_type": "markdown",
   "metadata": {},
   "source": [
    "# Study 1\n",
    "## Table de correspondances des speaker avec leurs intervals de temps de parole"
   ]
  },
  {
   "cell_type": "code",
   "execution_count": 115,
   "metadata": {},
   "outputs": [],
   "source": [
    "#method to get the speaker time intervals\n",
    "def get_speaker_screen_time(transcript):\n",
    "    speakers = transcript['speakers']\n",
    "    words = transcript['words']\n",
    "    speakerScreenTimeList = []\n",
    "    screenTimesList = []\n",
    "    \n",
    "    for speaker in speakers : \n",
    "\n",
    "        speakerId = speaker['id']\n",
    "        speakerScreenTime =[]\n",
    "        \n",
    "        interList = []\n",
    "        i = 0\n",
    "        while i < len(words):\n",
    "            interList = []\n",
    "            while i < len(words) and words[i]['speakerId'] == speakerId:\n",
    "                interList.append(words[i])\n",
    "                i+=1\n",
    "            \n",
    "            if len(interList) > 0 :\n",
    "                screenTime = {\n",
    "                    \"startTime\" : interList[0]['startTime'],\n",
    "                    \"endTime\" : interList[-1]['endTime']\n",
    "                }\n",
    "                speakerScreenTime.append(screenTime)\n",
    "                \n",
    "                newElem =  {\n",
    "                                \"startTime\" :  interList[0]['startTime'],\n",
    "                                \"endTime\" : interList[-1]['endTime'],\n",
    "                                \"speakerId\" : speakerId\n",
    "                            }\n",
    "                if not any(d['startTime'] == newElem['startTime'] for d in screenTimesList):\n",
    "                    screenTimesList.append(newElem)\n",
    "                \n",
    "                interList = []\n",
    "            else :\n",
    "                i+=1\n",
    "\n",
    "        \n",
    "        speaker['speakerScreenTime'] = speakerScreenTime\n",
    "        speakerScreenTimeList.append(speaker)\n",
    "                    \n",
    "    newlist = sorted(screenTimesList, key=itemgetter('startTime')) \n",
    "    return speakerScreenTimeList, newlist\n",
    "           "
   ]
  },
  {
   "cell_type": "code",
   "execution_count": 202,
   "metadata": {},
   "outputs": [],
   "source": [
    "def creen_screentimes_crossed(hypScreenTime, refScreenTime):\n",
    "    candidat_speaker= {}\n",
    "    for hypElem in hypScreenTime:\n",
    "        startTime = hypElem['startTime']\n",
    "        endTime = hypElem['endTime']\n",
    "        speaker = hypElem['speakerId']\n",
    "        potential_speakers =  []\n",
    "        for refElem in refScreenTime:\n",
    "            if refElem['startTime'] > endTime or refElem['endTime'] < startTime :\n",
    "                continue\n",
    "                print(\"___________OUT OF RANGE___________\")\n",
    "                print(speaker, startTime, endTime)\n",
    "                print(refElem)\n",
    "            else:\n",
    "                \n",
    "                intersection_length = min(float(endTime), float(refElem['endTime'])) - max(float(startTime), float(refElem['startTime']))\n",
    "                interval_length = float(endTime) - float(startTime)\n",
    "                \n",
    "                if not any(d['speakerId'] == refElem[\"speakerId\"] for d in potential_speakers):\n",
    "                    potential_speakers.append(\n",
    "                            {\n",
    "                                \"speakerId\" : refElem[\"speakerId\"],\n",
    "                                \"ratio\" : round(intersection_length/interval_length,2),\n",
    "                                \"intersection_time\" : round(intersection_length,2),\n",
    "                                \"interval_length\" : round(interval_length,2)\n",
    "                            }\n",
    "                    )\n",
    "                else:\n",
    "\n",
    "                    potential_speakers = [                          \n",
    "                            {\n",
    "                                \"speakerId\" : refElem[\"speakerId\"],\n",
    "                                \"ratio\" : round(intersection_length/interval_length,2) + round(elem['ratio'],2) ,\n",
    "                                \"intersection_time\" : round(intersection_length,2) + round(elem['intersection_time'],2),\n",
    "                                \"interval_length\" : round(interval_length,2)\n",
    "                            } if elem['speakerId'] == refElem[\"speakerId\"] else elem for elem in potential_speakers\n",
    "                    ]\n",
    "                    \n",
    "\n",
    "        if candidat_speaker.get(speaker) == None :\n",
    "            candidat_speaker[speaker] = potential_speakers\n",
    "        else:\n",
    "            candidat_speaker[speaker] = candidat_speaker[speaker] + potential_speakers\n",
    "    return candidat_speaker\n",
    "\n",
    "                \n",
    "                \n",
    "            "
   ]
  },
  {
   "cell_type": "code",
   "execution_count": 203,
   "metadata": {},
   "outputs": [],
   "source": [
    "def top_speaker(candidat_speaker):\n",
    "    for key in candidat_speaker:\n",
    "        spk_dict= {}\n",
    "        print(\"speaker\",key)\n",
    "        for elem in candidat_speaker[key]:\n",
    "            if not(elem['speakerId'] in spk_dict):\n",
    "                spk_dict[elem['speakerId']] = elem\n",
    "            else:\n",
    "                spk_dict[elem['speakerId']]['intersection_time'] += round(elem['intersection_time'],2)\n",
    "                spk_dict[elem['speakerId']]['interval_length'] += round(elem['interval_length'],2)\n",
    "                spk_dict[elem['speakerId']]['ration'] = round(\n",
    "                        (spk_dict[elem['speakerId']]['intersection_time'] + elem['intersection_time'])/\n",
    "                        (spk_dict[elem['speakerId']]['interval_length'] + elem['interval_length'])\n",
    "                ,2)\n",
    "        print(spk_dict)\n"
   ]
  },
  {
   "cell_type": "markdown",
   "metadata": {},
   "source": [
    "# TEST AREA"
   ]
  },
  {
   "cell_type": "code",
   "execution_count": 204,
   "metadata": {},
   "outputs": [],
   "source": [
    "hypTranscript = read_transcript(hypPath)\n",
    "refTranscript = read_transcript(refPath)"
   ]
  },
  {
   "cell_type": "code",
   "execution_count": 205,
   "metadata": {
    "scrolled": false
   },
   "outputs": [],
   "source": [
    "hypSpeakerScreenTime, hypScreenTime = get_speaker_screen_time(hypTranscript)\n",
    "refSpeakerScreenTime, refScreenTime = get_speaker_screen_time(refTranscript)"
   ]
  },
  {
   "cell_type": "code",
   "execution_count": 214,
   "metadata": {},
   "outputs": [
    {
     "name": "stdout",
     "output_type": "stream",
     "text": [
      "[{'id': 1, 'gender': 'F', 'speakerScreenTime': [{'startTime': 9.31, 'endTime': 98.07000000000001}, {'startTime': 1523.35, 'endTime': 1525.99}]}, {'id': 2, 'gender': 'F', 'speakerScreenTime': [{'startTime': 98.16, 'endTime': 126.4}, {'startTime': 324.36, 'endTime': 331.59}, {'startTime': 337.78, 'endTime': 380.90999999999997}]}, {'id': 3, 'gender': 'M', 'speakerScreenTime': [{'startTime': 127.17, 'endTime': 163.82}]}, {'id': 4, 'gender': 'M', 'speakerScreenTime': [{'startTime': 164.74, 'endTime': 165.56}, {'startTime': 914.03, 'endTime': 920.87}]}, {'id': 5, 'gender': 'F', 'speakerScreenTime': [{'startTime': 166.02, 'endTime': 204.17999999999998}]}, {'id': 6, 'gender': 'F', 'speakerScreenTime': [{'startTime': 206.1, 'endTime': 217.10999999999999}, {'startTime': 240.26, 'endTime': 249.89}, {'startTime': 273.55, 'endTime': 285.33}, {'startTime': 297.64, 'endTime': 299.5}, {'startTime': 309.08, 'endTime': 322.69}, {'startTime': 486.47, 'endTime': 511.21999999999997}]}, {'id': 7, 'gender': 'M', 'speakerScreenTime': [{'startTime': 218.24, 'endTime': 239.72}]}, {'id': 8, 'gender': 'F', 'speakerScreenTime': [{'startTime': 250.07, 'endTime': 255.15}, {'startTime': 569.51, 'endTime': 593.75}]}, {'id': 9, 'gender': 'F', 'speakerScreenTime': [{'startTime': 255.86, 'endTime': 272.72}]}, {'id': 10, 'gender': 'M', 'speakerScreenTime': [{'startTime': 286.52, 'endTime': 297.08}, {'startTime': 300.76, 'endTime': 308.64}, {'startTime': 991.71, 'endTime': 1006.1}]}, {'id': 11, 'gender': 'F', 'speakerScreenTime': [{'startTime': 331.78, 'endTime': 337.56}, {'startTime': 523.09, 'endTime': 547.42}, {'startTime': 612.21, 'endTime': 626.12}, {'startTime': 655.3, 'endTime': 666.12}, {'startTime': 694.84, 'endTime': 699.26}, {'startTime': 734.29, 'endTime': 756.33}, {'startTime': 832.86, 'endTime': 843.8}, {'startTime': 878.64, 'endTime': 886.04}, {'startTime': 935.88, 'endTime': 943.68}, {'startTime': 1081.87, 'endTime': 1086.92}, {'startTime': 1225.63, 'endTime': 1238.0}, {'startTime': 1403.39, 'endTime': 1507.61}]}, {'id': 12, 'gender': 'M', 'speakerScreenTime': [{'startTime': 383.23, 'endTime': 406.22}, {'startTime': 457.63, 'endTime': 471.46}, {'startTime': 511.45, 'endTime': 521.35}]}, {'id': 13, 'gender': 'F', 'speakerScreenTime': [{'startTime': 406.71, 'endTime': 436.16}, {'startTime': 472.01, 'endTime': 486.25}]}, {'id': 14, 'gender': 'F', 'speakerScreenTime': [{'startTime': 437.51, 'endTime': 457.24}, {'startTime': 628.99, 'endTime': 654.93}, {'startTime': 668.88, 'endTime': 694.69}, {'startTime': 702.04, 'endTime': 733.85}]}, {'id': 15, 'gender': 'F', 'speakerScreenTime': [{'startTime': 548.51, 'endTime': 568.46}]}, {'id': 16, 'gender': 'M', 'speakerScreenTime': [{'startTime': 594.55, 'endTime': 611.03}, {'startTime': 1030.05, 'endTime': 1046.56}]}, {'id': 17, 'gender': 'M', 'speakerScreenTime': [{'startTime': 756.67, 'endTime': 785.58}, {'startTime': 844.26, 'endTime': 878.15}, {'startTime': 886.16, 'endTime': 913.9}, {'startTime': 921.64, 'endTime': 935.78}, {'startTime': 943.94, 'endTime': 958.46}, {'startTime': 1057.89, 'endTime': 1081.7}, {'startTime': 1087.14, 'endTime': 1103.3}, {'startTime': 1222.19, 'endTime': 1225.16}]}, {'id': 18, 'gender': 'M', 'speakerScreenTime': [{'startTime': 788.31, 'endTime': 830.76}]}, {'id': 19, 'gender': 'M', 'speakerScreenTime': [{'startTime': 960.45, 'endTime': 990.33}, {'startTime': 1007.04, 'endTime': 1025.75}, {'startTime': 1047.28, 'endTime': 1055.98}]}, {'id': 20, 'gender': 'M', 'speakerScreenTime': [{'startTime': 1105.8, 'endTime': 1115.9}, {'startTime': 1156.39, 'endTime': 1166.61}, {'startTime': 1185.83, 'endTime': 1193.12}, {'startTime': 1212.85, 'endTime': 1220.41}]}, {'id': 21, 'gender': 'M', 'speakerScreenTime': [{'startTime': 1116.77, 'endTime': 1154.8}]}, {'id': 22, 'gender': 'M', 'speakerScreenTime': [{'startTime': 1166.84, 'endTime': 1183.81}]}, {'id': 23, 'gender': 'F', 'speakerScreenTime': [{'startTime': 1194.49, 'endTime': 1212.73}]}, {'id': 24, 'gender': 'M', 'speakerScreenTime': [{'startTime': 1249.56, 'endTime': 1306.46}, {'startTime': 1341.95, 'endTime': 1366.76}]}, {'id': 25, 'gender': 'M', 'speakerScreenTime': [{'startTime': 1307.76, 'endTime': 1327.2}, {'startTime': 1377.2, 'endTime': 1387.64}, {'startTime': 1393.13, 'endTime': 1399.39}]}, {'id': 26, 'gender': 'F', 'speakerScreenTime': [{'startTime': 1331.27, 'endTime': 1341.71}, {'startTime': 1389.5, 'endTime': 1391.18}]}, {'id': 27, 'gender': 'F', 'speakerScreenTime': [{'startTime': 1372.75, 'endTime': 1377.0}]}]\n"
     ]
    }
   ],
   "source": [
    "print(hypSpeakerScreenTime)"
   ]
  },
  {
   "cell_type": "code",
   "execution_count": 212,
   "metadata": {
    "scrolled": false
   },
   "outputs": [
    {
     "name": "stdout",
     "output_type": "stream",
     "text": [
      "[{'speakerId': '1', 'ratio': 1.0, 'intersection_time': 88.76, 'interval_length': 88.76}, {'speakerId': '38', 'ratio': 0.91, 'intersection_time': 2.4, 'interval_length': 2.64}]\n"
     ]
    }
   ],
   "source": [
    "candidat_speaker = creen_screentimes_crossed(hypScreenTime, refScreenTime)\n",
    "print(candidat_speaker[1])"
   ]
  },
  {
   "cell_type": "code",
   "execution_count": 207,
   "metadata": {},
   "outputs": [
    {
     "name": "stdout",
     "output_type": "stream",
     "text": [
      "speaker 1\n",
      "{'1': {'speakerId': '1', 'ratio': 1.0, 'intersection_time': 88.76, 'interval_length': 88.76}, '38': {'speakerId': '38', 'ratio': 0.91, 'intersection_time': 2.4, 'interval_length': 2.64}}\n",
      "speaker 2\n",
      "{'1': {'speakerId': '1', 'ratio': 1.0, 'intersection_time': 78.6, 'interval_length': 78.6, 'ration': 1.0}}\n",
      "speaker 3\n",
      "{'2': {'speakerId': '2', 'ratio': 1.0, 'intersection_time': 36.65, 'interval_length': 36.65}}\n",
      "speaker 4\n",
      "{'1': {'speakerId': '1', 'ratio': 0.88, 'intersection_time': 0.72, 'interval_length': 0.82}, '20': {'speakerId': '20', 'ratio': 1.0, 'intersection_time': 6.84, 'interval_length': 6.84}}\n",
      "speaker 5\n",
      "{'1': {'speakerId': '1', 'ratio': 1.0, 'intersection_time': 38.16, 'interval_length': 38.16}}\n",
      "speaker 6\n",
      "{'3': {'speakerId': '3', 'ratio': 1.0, 'intersection_time': 45.9, 'interval_length': 46.03, 'ration': 1.0}, '8': {'speakerId': '8', 'ratio': 1.0, 'intersection_time': 1.86, 'interval_length': 1.86}, '14': {'speakerId': '14', 'ratio': 1.0, 'intersection_time': 24.75, 'interval_length': 24.75}}\n",
      "speaker 7\n",
      "{'4': {'speakerId': '4', 'ratio': 1.0, 'intersection_time': 21.48, 'interval_length': 21.48}}\n",
      "speaker 8\n",
      "{'3': {'speakerId': '3', 'ratio': 0.06, 'intersection_time': 0.29, 'interval_length': 5.08}, '4': {'speakerId': '4', 'ratio': 0.85, 'intersection_time': 4.31, 'interval_length': 5.08}, '16': {'speakerId': '16', 'ratio': 0.61, 'intersection_time': 14.77, 'interval_length': 24.24}, '17': {'speakerId': '17', 'ratio': 0.34, 'intersection_time': 8.28, 'interval_length': 24.24}}\n",
      "speaker 9\n",
      "{'4': {'speakerId': '4', 'ratio': 0.8999999999999999, 'intersection_time': 15.14, 'interval_length': 16.86}, '6': {'speakerId': '6', 'ratio': 0.09, 'intersection_time': 1.56, 'interval_length': 16.86}}\n",
      "speaker 10\n",
      "{'7': {'speakerId': '7', 'ratio': 1.0, 'intersection_time': 18.44, 'interval_length': 18.44, 'ration': 1.0}, '23': {'speakerId': '23', 'ratio': 0.15, 'intersection_time': 2.12, 'interval_length': 14.39}}\n",
      "speaker 11\n",
      "{'1': {'speakerId': '1', 'ratio': 1.0, 'intersection_time': 227.38, 'interval_length': 229.07999999999998, 'ration': 0.99}, '19': {'speakerId': '19', 'ratio': 0.01, 'intersection_time': 0.32, 'interval_length': 22.04}}\n",
      "speaker 12\n",
      "{'8': {'speakerId': '8', 'ratio': 1.0, 'intersection_time': 46.69, 'interval_length': 46.72, 'ration': 1.0}}\n",
      "speaker 13\n",
      "{'9': {'speakerId': '9', 'ratio': 0.37, 'intersection_time': 10.81, 'interval_length': 29.45}, '10': {'speakerId': '10', 'ratio': 0.13, 'intersection_time': 3.84, 'interval_length': 29.45}, '11': {'speakerId': '11', 'ratio': 0.05, 'intersection_time': 1.44, 'interval_length': 29.45}, '12': {'speakerId': '12', 'ratio': 0.34, 'intersection_time': 9.92, 'interval_length': 29.45}, '13': {'speakerId': '13', 'ratio': 1.0, 'intersection_time': 14.24, 'interval_length': 14.24}}\n",
      "speaker 14\n",
      "{'9': {'speakerId': '9', 'ratio': 1.0, 'intersection_time': 19.73, 'interval_length': 19.73}, '19': {'speakerId': '19', 'ratio': 1.0, 'intersection_time': 83.51, 'interval_length': 83.56, 'ration': 1.0}}\n",
      "speaker 15\n",
      "{'15': {'speakerId': '15', 'ratio': 1.0, 'intersection_time': 19.95, 'interval_length': 19.95}}\n",
      "speaker 16\n",
      "{'18': {'speakerId': '18', 'ratio': 1.0, 'intersection_time': 16.48, 'interval_length': 16.48}, '24': {'speakerId': '24', 'ratio': 1.0, 'intersection_time': 16.51, 'interval_length': 16.51}}\n",
      "speaker 17\n",
      "{'1': {'speakerId': '1', 'ratio': 0.0, 'intersection_time': 0.01, 'interval_length': 28.91}, '20': {'speakerId': '20', 'ratio': 1.0, 'intersection_time': 161.66, 'interval_length': 162.14, 'ration': 1.0}}\n",
      "speaker 18\n",
      "{'21': {'speakerId': '21', 'ratio': 1.0, 'intersection_time': 42.45, 'interval_length': 42.45}}\n",
      "speaker 19\n",
      "{'22': {'speakerId': '22', 'ratio': 1.0, 'intersection_time': 57.239999999999995, 'interval_length': 57.290000000000006, 'ration': 1.0}}\n",
      "speaker 20\n",
      "{'27': {'speakerId': '27', 'ratio': 0.98, 'intersection_time': 9.94, 'interval_length': 10.1}, '25': {'speakerId': '25', 'ratio': 0.99, 'intersection_time': 24.85, 'interval_length': 25.07, 'ration': 0.99}}\n",
      "speaker 21\n",
      "{'26': {'speakerId': '26', 'ratio': 0.15, 'intersection_time': 5.83, 'interval_length': 38.03}, '27': {'speakerId': '27', 'ratio': 0.08, 'intersection_time': 3.4000000000000004, 'interval_length': 38.03}, '28': {'speakerId': '28', 'ratio': 0.39, 'intersection_time': 14.72, 'interval_length': 38.03}, '29': {'speakerId': '29', 'ratio': 0.3, 'intersection_time': 11.08, 'interval_length': 38.03}}\n",
      "speaker 22\n",
      "{'30': {'speakerId': '30', 'ratio': 0.22, 'intersection_time': 3.68, 'interval_length': 16.97}, '31': {'speakerId': '31', 'ratio': 0.24, 'intersection_time': 4.04, 'interval_length': 16.97}, '32': {'speakerId': '32', 'ratio': 0.06, 'intersection_time': 1.0, 'interval_length': 16.97}, '33': {'speakerId': '33', 'ratio': 0.09, 'intersection_time': 1.52, 'interval_length': 16.97}, '34': {'speakerId': '34', 'ratio': 0.17, 'intersection_time': 2.85, 'interval_length': 16.97}}\n",
      "speaker 23\n",
      "{'35': {'speakerId': '35', 'ratio': 0.41, 'intersection_time': 7.55, 'interval_length': 18.24}, '36': {'speakerId': '36', 'ratio': 0.45, 'intersection_time': 8.16, 'interval_length': 18.24}, '27': {'speakerId': '27', 'ratio': 0.03, 'intersection_time': 0.52, 'interval_length': 18.24}, '25': {'speakerId': '25', 'ratio': 0.0, 'intersection_time': 0.09, 'interval_length': 18.24}}\n",
      "speaker 24\n",
      "{'37': {'speakerId': '37', 'ratio': 1.0, 'intersection_time': 81.71, 'interval_length': 81.71, 'ration': 1.0}}\n",
      "speaker 25\n",
      "{'37': {'speakerId': '37', 'ratio': 1.0, 'intersection_time': 36.11, 'interval_length': 36.14, 'ration': 1.0}}\n",
      "speaker 26\n",
      "{'37': {'speakerId': '37', 'ratio': 1.0, 'intersection_time': 12.12, 'interval_length': 12.12, 'ration': 1.0}}\n",
      "speaker 27\n",
      "{'37': {'speakerId': '37', 'ratio': 1.0, 'intersection_time': 4.25, 'interval_length': 4.25}}\n"
     ]
    }
   ],
   "source": [
    "top_speaker(candidat_speaker)"
   ]
  },
  {
   "cell_type": "markdown",
   "metadata": {},
   "source": [
    "# Study 2 : \n",
    "## Detection des changements de speaker "
   ]
  },
  {
   "cell_type": "code",
   "execution_count": 32,
   "metadata": {},
   "outputs": [],
   "source": [
    "#method to get an element on speakers collection based on its id to extract the gender\n",
    "def get_speaker_gender(speakerId, speakers):\n",
    "    for speaker in speakers:\n",
    "        if \"gender\" in speaker and speaker[\"id\"] == speakerId:\n",
    "            return speaker[\"gender\"]\n",
    "    return None"
   ]
  },
  {
   "cell_type": "code",
   "execution_count": 33,
   "metadata": {},
   "outputs": [],
   "source": [
    "#method to get the exact time where a change of speaker is detected regardless of the speaker id\n",
    "def get_speaker_change_detection(transcript, mode = \"speaker\"):\n",
    "    \n",
    "    words = transcript['words']\n",
    "    speakers = transcript[\"speakers\"]\n",
    "    speakerChangeTimes = []\n",
    "    \n",
    "    if mode == \"speaker\":\n",
    "        i = 0\n",
    "        actualSpeaker = words[0]['speakerId']\n",
    "\n",
    "        while i < len(words) :\n",
    "            if actualSpeaker != words[i]['speakerId']:\n",
    "                speakerChangeTimes.append(words[i]['startTime'])\n",
    "                actualSpeaker = words[i]['speakerId']\n",
    "\n",
    "            i+=1\n",
    "    elif mode == \"gender\":\n",
    "        i = 0\n",
    "        actualGender = get_speaker_gender(words[0]['speakerId'], speakers)\n",
    "        while i < len(words) :\n",
    "            if actualGender != get_speaker_gender(words[i]['speakerId'], speakers):\n",
    "                speakerChangeTimes.append(words[i]['startTime'])\n",
    "                actualGender = get_speaker_gender(words[i]['speakerId'],speakers)\n",
    "\n",
    "            i+=1\n",
    "        \n",
    "        \n",
    "    else:\n",
    "        return None\n",
    "\n",
    "    return speakerChangeTimes\n",
    "    "
   ]
  },
  {
   "cell_type": "code",
   "execution_count": 34,
   "metadata": {},
   "outputs": [],
   "source": [
    "#method to compare two speaker change time\n",
    "def compare_speaker_changes(refSpeakerChangeTimes, hypSpeakerChangeTimes):\n",
    "    confTime = float(0.5)\n",
    "    \n",
    "    matches = 0\n",
    "    \n",
    "    for refChangeTime in refSpeakerChangeTimes : \n",
    "        for hypChangeTime in hypSpeakerChangeTimes :\n",
    "            \n",
    "            if float(refChangeTime) >= float(hypChangeTime - confTime) and float(refChangeTime) >= float(hypChangeTime + confTime):\n",
    "                matches += 1\n",
    "                hypSpeakerChangeTimes.remove(hypChangeTime)\n",
    "                break \n",
    "\n",
    "    errorRate = (len(refSpeakerChangeTimes) - matches) / len(refSpeakerChangeTimes)\n",
    "    return errorRate\n",
    "    \n",
    "    \n",
    "    \n",
    "    "
   ]
  },
  {
   "cell_type": "code",
   "execution_count": null,
   "metadata": {},
   "outputs": [],
   "source": []
  }
 ],
 "metadata": {
  "kernelspec": {
   "display_name": "Python 3",
   "language": "python",
   "name": "python3"
  },
  "language_info": {
   "codemirror_mode": {
    "name": "ipython",
    "version": 3
   },
   "file_extension": ".py",
   "mimetype": "text/x-python",
   "name": "python",
   "nbconvert_exporter": "python",
   "pygments_lexer": "ipython3",
   "version": "3.7.3"
  }
 },
 "nbformat": 4,
 "nbformat_minor": 2
}

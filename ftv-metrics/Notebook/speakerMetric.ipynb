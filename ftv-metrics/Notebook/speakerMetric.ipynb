{
 "cells": [
  {
   "cell_type": "markdown",
   "metadata": {},
   "source": [
    "# Speaker metric studies : \n"
   ]
  },
  {
   "cell_type": "code",
   "execution_count": 84,
   "metadata": {},
   "outputs": [],
   "source": [
    "import json"
   ]
  },
  {
   "cell_type": "code",
   "execution_count": 85,
   "metadata": {},
   "outputs": [],
   "source": [
    "refPath = \"/Users/amira/Desktop/corpus_stt/medias_corrected/fr-FR_news_0120be6c-7b6d-447a-bae2-d79a9149ddd6_Journal-Polynesie/reference_transcript_to_evaluate.json\"\n",
    "hypPath = \"/Users/amira/Desktop/corpus_stt/medias_corrected/fr-FR_news_0120be6c-7b6d-447a-bae2-d79a9149ddd6_Journal-Polynesie/vocapia/nlp_transcript_norm.json\""
   ]
  },
  {
   "cell_type": "code",
   "execution_count": 86,
   "metadata": {},
   "outputs": [],
   "source": [
    "#method to read a transcript json file\n",
    "def read_transcript(transcriptPath):\n",
    "    try:\n",
    "        return json.load(open(transcriptPath,'rt',encoding='utf-8'))\n",
    "    except FileNotFoundError:\n",
    "        return None"
   ]
  },
  {
   "cell_type": "markdown",
   "metadata": {},
   "source": [
    "# Study 1\n",
    "## Table de correspondances des speaker avec leurs intervals de temps de parole"
   ]
  },
  {
   "cell_type": "code",
   "execution_count": 87,
   "metadata": {},
   "outputs": [],
   "source": [
    "#method to get the speaker time intervals\n",
    "def get_speaker_screen_time(transcript):\n",
    "    speakers = transcript['speakers']\n",
    "    words = transcript['words']\n",
    "    speakerScreenTimeList = []\n",
    "    \n",
    "    for speaker in speakers : \n",
    "\n",
    "        speakerId = speaker['id']\n",
    "        speakerScreenTime =[]\n",
    "\n",
    "        interList = []\n",
    "        i = 0\n",
    "        while i < len(words):\n",
    "            interList = []\n",
    "            while i < len(words) and words[i]['speakerId'] == speakerId:\n",
    "                interList.append(words[i])\n",
    "                i+=1\n",
    "            \n",
    "            if len(interList) > 0 :\n",
    "                screenTime = {\n",
    "                    \"startTime\" : interList[0]['startTime'],\n",
    "                    \"endTime\" : interList[-1]['endTime']\n",
    "                }\n",
    "                speakerScreenTime.append(screenTime)\n",
    "                interList = []\n",
    "            else :\n",
    "                i+=1\n",
    "\n",
    "        \n",
    "        speaker['speakerScreenTime'] = speakerScreenTime\n",
    "        speakerScreenTimeList.append(speaker)\n",
    "                    \n",
    "\n",
    "    return speakerScreenTimeList\n",
    "           "
   ]
  },
  {
   "cell_type": "code",
   "execution_count": 88,
   "metadata": {},
   "outputs": [],
   "source": [
    "#method to compare two tables of speaker screentimes\n",
    "#TO DO "
   ]
  },
  {
   "cell_type": "markdown",
   "metadata": {},
   "source": [
    "# Study 2 : \n",
    "## Detection des changements de speaker "
   ]
  },
  {
   "cell_type": "code",
   "execution_count": 89,
   "metadata": {},
   "outputs": [],
   "source": [
    "#method to get the exact time where a change of speaker is detected regardless of the speaker id\n",
    "def get_speaker_change_detection(transcript):\n",
    "    \n",
    "    words = transcript['words']\n",
    "    speakerChangeTimes = []\n",
    "    \n",
    "    i = 0\n",
    "    actualSpeaker = words[0]['speakerId']\n",
    "    \n",
    "    while i < len(words) :\n",
    "        if actualSpeaker != words[i]['speakerId']:\n",
    "            speakerChangeTimes.append(words[i]['startTime'])\n",
    "            actualSpeaker = words[i]['speakerId']\n",
    "            \n",
    "        i+=1\n",
    "    \n",
    "    return speakerChangeTimes\n",
    "    "
   ]
  },
  {
   "cell_type": "code",
   "execution_count": 166,
   "metadata": {},
   "outputs": [],
   "source": [
    "#method to compare two speaker change time\n",
    "#TO DO\n",
    "def compare_speaker_changes(refSpeakerChangeTimes, hypSpeakerChangeTimes):\n",
    "    confTime = float(0.5)\n",
    "    \n",
    "    matches = 0\n",
    "    \n",
    "    for refChangeTime in refSpeakerChangeTimes : \n",
    "        for hypChangeTime in hypSpeakerChangeTimes :\n",
    "            \n",
    "            if float(refChangeTime) >= float(hypChangeTime - confTime) and float(refChangeTime) >= float(hypChangeTime + confTime):\n",
    "                matches += 1\n",
    "                hypSpeakerChangeTimes.remove(hypChangeTime)\n",
    "                break \n",
    "\n",
    "                \n",
    "    result = {\n",
    "        \"matching_changes\" : matches,\n",
    "        \"unexpected_changes\" : len(hypSpeakerChangeTimes),\n",
    "        \"missed_changes\" : len(refSpeakerChangeTimes) - matches\n",
    "    }\n",
    "        \n",
    "    errorRate = (result['unexpected_changes'] + result['missed_changes']) / len(refSpeakerChangeTimes)\n",
    "    return errorRate\n",
    "    \n",
    "    \n",
    "    \n",
    "    "
   ]
  },
  {
   "cell_type": "markdown",
   "metadata": {},
   "source": [
    "# TEST AREA"
   ]
  },
  {
   "cell_type": "code",
   "execution_count": 167,
   "metadata": {},
   "outputs": [],
   "source": [
    "hypTranscript = read_transcript(hypPath)\n",
    "refTranscript = read_transcript(refPath)"
   ]
  },
  {
   "cell_type": "code",
   "execution_count": 168,
   "metadata": {},
   "outputs": [],
   "source": [
    "hypScreenTime = get_speaker_screen_time(hypTranscript)\n",
    "refScreenTime = get_speaker_screen_time(refTranscript)"
   ]
  },
  {
   "cell_type": "code",
   "execution_count": 169,
   "metadata": {},
   "outputs": [],
   "source": [
    "hypSpeakerChangeTimes = get_speaker_change_detection(hypTranscript)\n",
    "refSpeakerChangeTimes = get_speaker_change_detection(refTranscript)"
   ]
  },
  {
   "cell_type": "code",
   "execution_count": 171,
   "metadata": {},
   "outputs": [
    {
     "name": "stdout",
     "output_type": "stream",
     "text": [
      "0.3253012048192771\n"
     ]
    }
   ],
   "source": [
    "print(compare_speaker_changes(refSpeakerChangeTimes, hypSpeakerChangeTimes))"
   ]
  },
  {
   "cell_type": "code",
   "execution_count": null,
   "metadata": {},
   "outputs": [],
   "source": []
  },
  {
   "cell_type": "code",
   "execution_count": null,
   "metadata": {},
   "outputs": [],
   "source": []
  }
 ],
 "metadata": {
  "kernelspec": {
   "display_name": "Python 3",
   "language": "python",
   "name": "python3"
  },
  "language_info": {
   "codemirror_mode": {
    "name": "ipython",
    "version": 3
   },
   "file_extension": ".py",
   "mimetype": "text/x-python",
   "name": "python",
   "nbconvert_exporter": "python",
   "pygments_lexer": "ipython3",
   "version": "3.7.3"
  }
 },
 "nbformat": 4,
 "nbformat_minor": 2
}
